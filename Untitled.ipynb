{
 "cells": [
  {
   "cell_type": "code",
   "execution_count": 99,
   "metadata": {},
   "outputs": [],
   "source": [
    "class TreeNode:\n",
    "    def __init__(self,x):\n",
    "        self.val = x\n",
    "        self.left = None\n",
    "        self.right = None\n",
    "class BinaryTree:\n",
    "    \n",
    "    def PrintPreorder(self, root):\n",
    "        res = []\n",
    "        def Preorder(root, res):\n",
    "            if root is None:\n",
    "                return None\n",
    "            res.append(root.val)\n",
    "            Preorder(root.left, res)\n",
    "            Preorder(root.right,res)\n",
    "            return res\n",
    "        return Preorder(root, res)\n",
    "    def preorder(self, root, res):\n",
    "        if root == None:\n",
    "            return None\n",
    "        res.append(root.val)\n",
    "        self.preorder(root.left,res)\n",
    "        self.preorder(root.right, res)\n",
    "        return res   \n",
    "    def pre_nonrec(self, root):\n",
    "        if not isinstance(root, TreeNode):\n",
    "            return None\n",
    "        res = []\n",
    "        stack = [root]\n",
    "        while stack:\n",
    "            node = stack.pop(-1)\n",
    "            if node:\n",
    "                res.append(node.val)\n",
    "                stack.append(node.right)\n",
    "                stack.append(node.left)\n",
    "        return res\n",
    "    def PrintInorder(self, root,res=[]):\n",
    "        if root == None:\n",
    "            return None\n",
    "        self.PrintInorder(root.left, res)\n",
    "        res.append(root.val)\n",
    "        self.PrintInorder(root.right, res)\n",
    "        return res\n",
    "    def in_nonrec(self, root):\n",
    "        if root==None:\n",
    "            return None\n",
    "        res=[]\n",
    "        stack = []\n",
    "        node = root\n",
    "        while stack or node:\n",
    "            while node:\n",
    "                stack.append(node)\n",
    "                node=node.left\n",
    "            node = stack.pop()\n",
    "            res.append(node.val)\n",
    "            node=node.right\n",
    "        return res\n",
    "            \n",
    "    def printbylevel(self, root):\n",
    "        if root == None:\n",
    "            return None\n",
    "        res = []\n",
    "        queue = [root]\n",
    "        while queue:\n",
    "            current = queue.pop()\n",
    "            res.append(current.val)\n",
    "            if current.left:\n",
    "                queue.insert(0,current.left)\n",
    "            if current.right:\n",
    "                queue.insert(0, current.right)\n",
    "        return res\n",
    "        \n",
    "    def recons(self, pre, tin):\n",
    "        if not pre or not tin:\n",
    "            return None\n",
    "        if set(pre) != set(tin):\n",
    "            print('not valid')\n",
    "            return None\n",
    "        root_val = pre[0]\n",
    "        root = TreeNode(root_val)\n",
    "        pos = tin.index(root_val)\n",
    "        root.left = self.recons(pre[1:pos+1], tin[0:pos])\n",
    "        root.right = self.recons(pre[pos+1:],tin[pos+1:])\n",
    "        return root\n",
    "    def reConstructBinaryTree(self, pre, tin):\n",
    "        if not pre or not tin:\n",
    "            return None\n",
    "        if set(pre) != set(tin):  # 确保先序遍历和中序遍历的数字是一致的\n",
    "            print('invalid input!')\n",
    "            return None\n",
    "        # 确定头结点：前序遍历结果中的第一个数\n",
    "        root_val = pre[0]\n",
    "        root = TreeNode(root_val)  # 建立树的头结点\n",
    "        pos = tin.index(root_val)  # 头结点在中序遍历结果中的位置\n",
    "        root.left = self.reConstructBinaryTree(pre[1: pos + 1], tin[0: pos])  # 用头节点以前的构造左子树\n",
    "        root.right = self.reConstructBinaryTree(pre[pos + 1:], tin[pos + 1:])  # 用头节点以后的构造右子树\n",
    "        return root\n",
    "    def Mirror(self,root):\n",
    "        if not root:\n",
    "            return None\n",
    "        root.left, root.right = root.right, root.left\n",
    "        \n",
    "        if root.left:\n",
    "            self.Mirror(root.left)\n",
    "        if root.right:\n",
    "            self.Mirror(root.right)\n",
    "        return root\n",
    "    "
   ]
  },
  {
   "cell_type": "code",
   "execution_count": 100,
   "metadata": {},
   "outputs": [],
   "source": [
    "a=TreeNode(1)\n",
    "a.left=TreeNode(2)\n",
    "a.right=TreeNode(3)\n",
    "a.left.left=TreeNode(4)"
   ]
  },
  {
   "cell_type": "code",
   "execution_count": 101,
   "metadata": {},
   "outputs": [
    {
     "data": {
      "text/plain": [
       "[1, 2, 3, 4]"
      ]
     },
     "execution_count": 101,
     "metadata": {},
     "output_type": "execute_result"
    }
   ],
   "source": [
    "b=BinaryTree()\n",
    "#b.in_nonrec(a)\n",
    "#b.PrintInorder(a)\n",
    "b.printbylevel(a)"
   ]
  },
  {
   "cell_type": "code",
   "execution_count": 103,
   "metadata": {},
   "outputs": [
    {
     "name": "stdout",
     "output_type": "stream",
     "text": [
      "not valid\n",
      "not valid\n"
     ]
    },
    {
     "data": {
      "text/plain": [
       "<__main__.TreeNode at 0x7f219833ef90>"
      ]
     },
     "execution_count": 103,
     "metadata": {},
     "output_type": "execute_result"
    }
   ],
   "source": [
    "pre = [1,2,4,3]\n",
    "tin = [4,2,1,3]\n",
    "b.recons(pre, tin)"
   ]
  },
  {
   "cell_type": "code",
   "execution_count": null,
   "metadata": {},
   "outputs": [],
   "source": []
  }
 ],
 "metadata": {
  "kernelspec": {
   "display_name": "Python 3",
   "language": "python",
   "name": "python3"
  },
  "language_info": {
   "codemirror_mode": {
    "name": "ipython",
    "version": 3
   },
   "file_extension": ".py",
   "mimetype": "text/x-python",
   "name": "python",
   "nbconvert_exporter": "python",
   "pygments_lexer": "ipython3",
   "version": "3.7.4"
  }
 },
 "nbformat": 4,
 "nbformat_minor": 2
}
